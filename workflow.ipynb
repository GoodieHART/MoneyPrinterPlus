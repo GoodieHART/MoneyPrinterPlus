{
 "cells": [
  {
   "cell_type": "markdown",
   "metadata": {},
   "source": [
    "# MoneyPrinterPlus Notebook Workflow\n",
    "\n",
    "This notebook provides a step-by-step workflow to generate a video from a text topic using the existing services of the MoneyPrinterPlus application."
   ]
  },
  {
   "cell_type": "markdown",
   "metadata": {},
   "source": [
    "## 1. Setup and Configuration\n",
    "\n",
    "This cell imports necessary modules, loads the application's configuration, and creates a mock Streamlit session state. This session state is crucial because the application's services are designed to read their parameters from it."
   ]
  },
  {
   "cell_type": "code",
   "execution_count": null,
   "metadata": {},
   "outputs": [],
   "source": [
    "import os\n",
    "import sys\n",
    "import streamlit as st\n",
    "\n",
    "# Add project root to Python path\n",
    "project_root = os.path.abspath(os.path.join(os.getcwd()))\n",
    "if project_root not in sys.path:\n",
    "    sys.path.append(project_root)\n",
    "\n",
    "# --- Mock Streamlit Session State ---\n",
    "class MockSessionState(dict):\n",
    "    def __getattr__(self, key):\n",
    "        return self.get(key)\n",
    "\n",
    "    def __setattr__(self, key, value):\n",
    "        self[key] = value\n",
    "\n",
    "# Replace the actual st.session_state with our mock object\n",
    "st.session_state = MockSessionState()\n",
    "\n",
    "# --- Load Application Configuration ---\n",
    "from config.config import my_config\n",
    "from main import (\n",
    "    main_generate_video_content,\n",
    "    main_generate_video_dubbing,\n",
    "    main_generate_subtitle,\n",
    "    main_get_video_resource\n",
    ")\n",
    "from services.video.video_service import VideoService\n",
    "from services.captioning.captioning_service import add_subtitles\n",
    "from tools.utils import get_must_session_option\n",
    "\n",
    "print(\"Configuration and services loaded.\")"
   ]
  },
  {
   "cell_type": "markdown",
   "metadata": {},
   "source": [
    "## 2. Set Video Parameters\n",
    "\n",
    "Define the topic and parameters for the video you want to create. These values are placed into the mock session state for the services to use."
   ]
  },
  {
   "cell_type": "code",
   "execution_count": null,
   "metadata": {},
   "outputs": [],
   "source": [
    "# --- User-defined parameters ---\n",
    "st.session_state['video_subject'] = \"The History of the Roman Empire\"\n",
    "st.session_state['video_language'] = 'en-US' # e.g., 'en-US', 'zh-CN'\n",
    "st.session_state['video_length'] = '60' # Corresponds to character count\n",
    "\n",
    "# --- Audio Configuration ---\n",
    "# 'remote' for cloud services (Azure, etc.), 'local' for (ChatTTS, etc.)\n",
    "st.session_state['audio_type'] = my_config.get('audio', {}).get('type', 'remote') \n",
    "st.session_state['audio_language'] = 'en-US'\n",
    "st.session_state['audio_voice'] = 'en-US-AvaMultilingualNeural' # Example voice, change as needed\n",
    "st.session_state['audio_speed'] = 'normal'\n",
    "\n",
    "# --- Subtitle Configuration ---\n",
    "st.session_state['enable_subtitles'] = True\n",
    "st.session_state['recognition_audio_type'] = my_config.get('audio', {}).get('recognition_type', 'remote')\n",
    "st.session_state['subtitle_font'] = 'STSong'\n",
    "st.session_state['subtitle_font_size'] = 16\n",
    "st.session_state['subtitle_color'] = '#FFFFFF'\n",
    "st.session_state['subtitle_border_color'] = '#000000'\n",
    "st.session_state['subtitle_border_width'] = 1\n",
    "st.session_state['subtitle_position'] = 2 # Bottom center\n",
    "\n",
    "# --- Video Configuration ---\n",
    "st.session_state['video_fps'] = 25\n",
    "st.session_state['video_size'] = '1080x1920' # Portrait\n",
    "st.session_state['video_segment_min_length'] = 5\n",
    "st.session_state['video_segment_max_length'] = 10\n",
    "st.session_state['enable_background_music'] = True\n",
    "st.session_state['background_music'] = os.path.join(project_root, 'bgmusic', 'default.mp3')\n",
    "st.session_state['background_music_volume'] = 0.3\n",
    "st.session_state['enable_video_transition_effect'] = True\n",
    "st.session_state['video_transition_effect_duration'] = '1'\n",
    "st.session_state['video_transition_effect_type'] = 'fade'\n",
    "st.session_state['video_transition_effect_value'] = 'fade'\n",
    "\n",
    "print(f\"Parameters set for video topic: {st.session_state['video_subject']}\")"
   ]
  },
  {
   "cell_type": "markdown",
   "metadata": {},
   "source": [
    "## 3. Run the Video Generation Workflow\n",
    "\n",
    "This cell executes the main functions in sequence to generate the video."
   ]
  },
  {
   "cell_type": "code",
   "execution_count": null,
   "metadata": {},
   "outputs": [],
   "source": [
    "try:\n",
    "    # Step 1: Generate Script and Keywords\n",
    "    print(\"[1/5] Generating video script and keywords...\")\n",
    "    main_generate_video_content()\n",
    "    print(f\"  - Script: {st.session_state.get('video_content')[:100]}...\")\n",
    "    print(f\"  - Keywords: {st.session_state.get('video_keyword')}\")\n",
    "\n",
    "    # Step 2: Generate Audio from Script\n",
    "    print(\"[2/5] Generating audio from script...\")\n",
    "    main_generate_video_dubbing()\n",
    "    audio_file = st.session_state.get('audio_output_file')\n",
    "    print(f\"  - Audio file created at: {audio_file}\")\n",
    "\n",
    "    # Step 3: Download Source Videos\n",
    "    print(\"[3/5] Downloading video resources...\")\n",
    "    main_get_video_resource()\n",
    "    video_list = st.session_state.get('return_videos')\n",
    "    print(f\"  - Downloaded {len(video_list)} video clips.\")\n",
    "\n",
    "    # Step 4: Generate Subtitles\n",
    "    print(\"[4/5] Generating subtitles...\")\n",
    "    main_generate_subtitle()\n",
    "    subtitle_file = st.session_state.get('captioning_output')\n",
    "    print(f\"  - Subtitle file created at: {subtitle_file}\")\n",
    "\n",
    "    # Step 5: Assemble the Final Video\n",
    "    print(\"[5/5] Assembling the final video...\")\n",
    "    video_service = VideoService(video_list, audio_file)\n",
    "    print(\"  - Normalizing video clips...\")\n",
    "    video_service.normalize_video()\n",
    "    print(\"  - Generating video with audio...\")\n",
    "    video_file_no_subs = video_service.generate_video_with_audio()\n",
    "    \n",
    "    if st.session_state.get(\"enable_subtitles\"):\n",
    "        print(\"  - Burning subtitles into video...\")\n",
    "        add_subtitles(\n",
    "            video_file=video_file_no_subs, \n",
    "            subtitle_file=subtitle_file,\n",
    "            font_name=st.session_state.get('subtitle_font'),\n",
    "            font_size=st.session_state.get('subtitle_font_size'),\n",
    "            primary_colour=st.session_state.get('subtitle_color'),\n",
    "            outline_colour=st.session_state.get('subtitle_border_color'),\n",
    "            outline=st.session_state.get('subtitle_border_width'),\n",
    "            alignment=st.session_state.get('subtitle_position')\n",
    "        )\n",
    "    st.session_state[\"result_video_file\"] = video_file_no_subs\n",
    "    print(\"Workflow complete!\")\n",
    "\n",
    "except Exception as e:\n",
    "    print(f\"An error occurred: {e}\")\n",
    "    import traceback\n",
    "    traceback.print_exc()"
   ]
  },
  {
   "cell_type": "markdown",
   "metadata": {},
   "source": [
    "## 4. Display Result\n",
    "\n",
    "The path to the final generated video is stored in the session state. Print the path to the final video file."
   ]
  },
  {
   "cell_type": "code",
   "execution_count": null,
   "metadata": {},
   "outputs": [],
   "source": [
    "final_video_path = st.session_state.get(\"result_video_file\")\n",
    "if final_video_path and os.path.exists(final_video_path):\n",
    "    print(f\"Successfully generated video:\")\n",
    "    print(final_video_path)\n",
    "    # To display the video in a Jupyter environment, you can use:\n",
    "    # from IPython.display import Video\n",
    "    # Video(final_video_path, embed=True)\n",
    "else:\n",
    "    print(\"Video generation failed. Please check the logs above.\")"
   ]
  }
 ],
 "metadata": {
  "kernelspec": {
   "display_name": "Python 3",
   "language": "python",
   "name": "python3"
  },
  "language_info": {
   "codemirror_mode": {
    "name": "ipython",
    "version": 3
   },
   "file_extension": ".py",
   "mimetype": "text/x-python",
   "name": "python",
   "nbconvert_exporter": "python",
   "pygments_lexer": "ipython3",
   "version": "3.10.12"
  }
 },
 "nbformat": 4,
 "nbformat_minor": 4
}
